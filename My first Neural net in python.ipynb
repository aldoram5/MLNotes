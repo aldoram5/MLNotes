{
 "cells": [
  {
   "cell_type": "markdown",
   "metadata": {},
   "source": [
    "Now here's my first deep neural net (multilayer perceptron), I'll use the [MNIST][1] dataset.\n",
    "\n",
    "[1]:https://en.wikipedia.org/wiki/MNIST_database"
   ]
  },
  {
   "cell_type": "code",
   "execution_count": 1,
   "metadata": {},
   "outputs": [
    {
     "name": "stdout",
     "output_type": "stream",
     "text": [
      "Successfully downloaded train-images-idx3-ubyte.gz 9912422 bytes.\n",
      "Extracting /tmp/data/train-images-idx3-ubyte.gz\n",
      "Successfully downloaded train-labels-idx1-ubyte.gz 28881 bytes.\n",
      "Extracting /tmp/data/train-labels-idx1-ubyte.gz\n",
      "Successfully downloaded t10k-images-idx3-ubyte.gz 1648877 bytes.\n",
      "Extracting /tmp/data/t10k-images-idx3-ubyte.gz\n",
      "Successfully downloaded t10k-labels-idx1-ubyte.gz 4542 bytes.\n",
      "Extracting /tmp/data/t10k-labels-idx1-ubyte.gz\n",
      "[[ 0.  0.  0. ...,  0.  0.  0.]\n",
      " [ 0.  0.  0. ...,  0.  0.  0.]\n",
      " [ 0.  0.  0. ...,  0.  0.  0.]\n",
      " ..., \n",
      " [ 0.  0.  0. ...,  0.  0.  0.]\n",
      " [ 0.  0.  0. ...,  0.  0.  0.]\n",
      " [ 0.  0.  0. ...,  0.  0.  0.]]\n",
      "[7 3 4 ..., 5 6 8]\n"
     ]
    }
   ],
   "source": [
    "import tensorflow as tf\n",
    "import numpy as np\n",
    "#first get the dataset\n",
    "\n",
    "from tensorflow.examples.tutorials.mnist import input_data\n",
    "\n",
    "mnist = input_data.read_data_sets(\"/tmp/data/\")\n",
    "\n",
    "X_train = mnist.train.images\n",
    "X_test = mnist.test.images\n",
    "y_train = mnist.train.labels.astype(\"int\")\n",
    "y_test = mnist.test.labels.astype(\"int\")\n",
    "print(X_train)\n",
    "print(y_train)"
   ]
  },
  {
   "cell_type": "code",
   "execution_count": 2,
   "metadata": {},
   "outputs": [
    {
     "name": "stdout",
     "output_type": "stream",
     "text": [
      "(55000, 784)\n"
     ]
    }
   ],
   "source": [
    "#visualization\n",
    "print(X_train.shape)"
   ]
  },
  {
   "cell_type": "markdown",
   "metadata": {},
   "source": [
    "With that we can see that the mnist dataset is conformed by 55000 images each one containing 784 pixels having a square shape of 28 pixels * 28 pixels"
   ]
  },
  {
   "cell_type": "code",
   "execution_count": 3,
   "metadata": {
    "collapsed": true
   },
   "outputs": [],
   "source": [
    "#defining our neural net\n",
    "n_inputs = 784  # MNIST data input (img shape: 28*28)\n",
    "n_hidden1 = 300 # number of features(neurons) in this layer\n",
    "n_hidden2 = 100 # number of fatures(neurons) in layer 2\n",
    "n_outputs = 10 # these are our classes (0-9 digits)"
   ]
  },
  {
   "cell_type": "code",
   "execution_count": 4,
   "metadata": {
    "collapsed": true
   },
   "outputs": [],
   "source": [
    "# Placeholders for inputs and outputs\n",
    "X = tf.placeholder(tf.float32, shape=(None, n_inputs), name=\"X\")\n",
    "y = tf.placeholder(tf.int64, shape=(None), name=\"y\")"
   ]
  },
  {
   "cell_type": "code",
   "execution_count": 5,
   "metadata": {
    "collapsed": true
   },
   "outputs": [],
   "source": [
    "def neuron_layer(X, n_neurons, name, activation=None): \n",
    "    with tf.name_scope(name):\n",
    "        n_inputs = int(X.get_shape()[1])\n",
    "        stddev = 2 / np.sqrt(n_inputs)\n",
    "        init = tf.truncated_normal((n_inputs, n_neurons), stddev=stddev) \n",
    "        W = tf.Variable(init, name=\"weights\")\n",
    "        b = tf.Variable(tf.zeros([n_neurons]), name=\"biases\")\n",
    "        z = tf.matmul(X, W) + b\n",
    "        if activation==\"relu\":\n",
    "            return tf.nn.relu(z) \n",
    "        else:\n",
    "            return z"
   ]
  },
  {
   "cell_type": "code",
   "execution_count": 6,
   "metadata": {
    "collapsed": true
   },
   "outputs": [],
   "source": [
    "with tf.name_scope(\"dnn\"):\n",
    "    hidden1 = neuron_layer(X, n_hidden1, \"hidden1\", activation=\"relu\")\n",
    "    hidden2 = neuron_layer(hidden1, n_hidden2, \"hidden2\", activation=\"relu\")\n",
    "    logits = neuron_layer(hidden2, n_outputs, \"outputs\")"
   ]
  },
  {
   "cell_type": "code",
   "execution_count": 7,
   "metadata": {
    "collapsed": true
   },
   "outputs": [],
   "source": [
    "with tf.name_scope(\"loss\"):\n",
    "    xentropy = tf.nn.sparse_softmax_cross_entropy_with_logits(logits=logits,labels= y)\n",
    "    loss = tf.reduce_mean(xentropy, name=\"loss\")"
   ]
  },
  {
   "cell_type": "code",
   "execution_count": 8,
   "metadata": {
    "collapsed": true
   },
   "outputs": [],
   "source": [
    "learning_rate = 0.01\n",
    "with tf.name_scope(\"train\"):\n",
    "    optimizer = tf.train.GradientDescentOptimizer(learning_rate)\n",
    "    training_op = optimizer.minimize(loss)"
   ]
  },
  {
   "cell_type": "code",
   "execution_count": 9,
   "metadata": {
    "collapsed": true
   },
   "outputs": [],
   "source": [
    "init = tf.global_variables_initializer()\n",
    "saver = tf.train.Saver()"
   ]
  },
  {
   "cell_type": "code",
   "execution_count": 10,
   "metadata": {
    "collapsed": true
   },
   "outputs": [],
   "source": [
    "with tf.name_scope(\"eval\"):\n",
    "    correct = tf.nn.in_top_k(logits, y, 1)\n",
    "    accuracy = tf.reduce_mean(tf.cast(correct, tf.float32))"
   ]
  },
  {
   "cell_type": "code",
   "execution_count": 11,
   "metadata": {
    "collapsed": true
   },
   "outputs": [],
   "source": [
    "n_epochs = 47\n",
    "n_batches = 100\n",
    "batch_size = 50"
   ]
  },
  {
   "cell_type": "code",
   "execution_count": 12,
   "metadata": {},
   "outputs": [
    {
     "name": "stdout",
     "output_type": "stream",
     "text": [
      "0 Train accuracy: 0.96 Test accuracy: 0.9107\n",
      "1 Train accuracy: 0.96 Test accuracy: 0.9341\n",
      "2 Train accuracy: 0.98 Test accuracy: 0.9413\n",
      "3 Train accuracy: 0.92 Test accuracy: 0.947\n",
      "4 Train accuracy: 0.96 Test accuracy: 0.9509\n",
      "5 Train accuracy: 0.94 Test accuracy: 0.9548\n",
      "6 Train accuracy: 0.98 Test accuracy: 0.9587\n",
      "7 Train accuracy: 0.94 Test accuracy: 0.9595\n",
      "8 Train accuracy: 1.0 Test accuracy: 0.9609\n",
      "9 Train accuracy: 0.96 Test accuracy: 0.9648\n",
      "10 Train accuracy: 1.0 Test accuracy: 0.9658\n",
      "11 Train accuracy: 0.98 Test accuracy: 0.9662\n",
      "12 Train accuracy: 1.0 Test accuracy: 0.9674\n",
      "13 Train accuracy: 1.0 Test accuracy: 0.9674\n",
      "14 Train accuracy: 0.98 Test accuracy: 0.969\n",
      "15 Train accuracy: 1.0 Test accuracy: 0.97\n",
      "16 Train accuracy: 1.0 Test accuracy: 0.9714\n",
      "17 Train accuracy: 1.0 Test accuracy: 0.9708\n",
      "18 Train accuracy: 0.96 Test accuracy: 0.9711\n",
      "19 Train accuracy: 0.96 Test accuracy: 0.9713\n",
      "20 Train accuracy: 1.0 Test accuracy: 0.973\n",
      "21 Train accuracy: 1.0 Test accuracy: 0.9724\n",
      "22 Train accuracy: 0.98 Test accuracy: 0.9741\n",
      "23 Train accuracy: 1.0 Test accuracy: 0.9735\n",
      "24 Train accuracy: 1.0 Test accuracy: 0.9744\n",
      "25 Train accuracy: 1.0 Test accuracy: 0.9745\n",
      "26 Train accuracy: 1.0 Test accuracy: 0.9748\n",
      "27 Train accuracy: 1.0 Test accuracy: 0.9751\n",
      "28 Train accuracy: 1.0 Test accuracy: 0.9744\n",
      "29 Train accuracy: 1.0 Test accuracy: 0.9757\n",
      "30 Train accuracy: 1.0 Test accuracy: 0.976\n",
      "31 Train accuracy: 0.98 Test accuracy: 0.9757\n",
      "32 Train accuracy: 0.98 Test accuracy: 0.9753\n",
      "33 Train accuracy: 0.96 Test accuracy: 0.9753\n",
      "34 Train accuracy: 1.0 Test accuracy: 0.9762\n",
      "35 Train accuracy: 0.98 Test accuracy: 0.9771\n",
      "36 Train accuracy: 1.0 Test accuracy: 0.9769\n",
      "37 Train accuracy: 0.98 Test accuracy: 0.977\n",
      "38 Train accuracy: 1.0 Test accuracy: 0.9767\n",
      "39 Train accuracy: 1.0 Test accuracy: 0.9766\n",
      "40 Train accuracy: 1.0 Test accuracy: 0.9772\n",
      "41 Train accuracy: 1.0 Test accuracy: 0.9765\n",
      "42 Train accuracy: 1.0 Test accuracy: 0.9766\n",
      "43 Train accuracy: 1.0 Test accuracy: 0.9772\n",
      "44 Train accuracy: 1.0 Test accuracy: 0.9783\n",
      "45 Train accuracy: 0.98 Test accuracy: 0.9777\n"
     ]
    }
   ],
   "source": [
    "with tf.Session() as sess: \n",
    "    init.run()\n",
    "    for epoch in range(n_epochs):\n",
    "        for iteration in range(mnist.train.num_examples // batch_size):\n",
    "            X_batch, y_batch = mnist.train.next_batch(batch_size )\n",
    "            sess.run(training_op, feed_dict={X: X_batch, y: y_batch})\n",
    "        acc_train = accuracy.eval(feed_dict={X: X_batch, y: y_batch})\n",
    "        acc_test = accuracy.eval(feed_dict={X: mnist.test.images,y: mnist.test.labels})\n",
    "        print(epoch, \"Train accuracy:\", acc_train, \"Test accuracy:\", acc_test)\n",
    "    save_path = saver.save(sess, \"first_neural_net.ckpt\")"
   ]
  },
  {
   "cell_type": "code",
   "execution_count": null,
   "metadata": {
    "collapsed": true
   },
   "outputs": [],
   "source": [
    "with tf.Session() as sess:\n",
    "    saver.restore(sess, \"my_model_final.ckpt\")\n",
    "    X_new_scaled = [...] # some new images (scaled from 0 to 1) \n",
    "    Z = logits.eval(feed_dict={X: X_new_scaled})\n",
    "    y_pred = np.argmax(Z, axis=1)\n"
   ]
  },
  {
   "cell_type": "code",
   "execution_count": null,
   "metadata": {
    "collapsed": true
   },
   "outputs": [],
   "source": []
  }
 ],
 "metadata": {
  "kernelspec": {
   "display_name": "Python 3",
   "language": "python",
   "name": "python3"
  },
  "language_info": {
   "codemirror_mode": {
    "name": "ipython",
    "version": 3
   },
   "file_extension": ".py",
   "mimetype": "text/x-python",
   "name": "python",
   "nbconvert_exporter": "python",
   "pygments_lexer": "ipython3",
   "version": "3.6.1"
  }
 },
 "nbformat": 4,
 "nbformat_minor": 2
}
